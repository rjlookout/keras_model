{
 "cells": [
  {
   "cell_type": "code",
   "execution_count": 1,
   "metadata": {},
   "outputs": [
    {
     "data": {
      "text/plain": [
       "'\\n在顺序API或函数API构建模型时\\n模型的保存\\nmodel.save(\"my_model.h5\")\\n使用hdf5格式保存模型的结构和参数\\n与调用\\nmodel=keras.models.load_model(\"my_model.h5\")\\n'"
      ]
     },
     "execution_count": 1,
     "metadata": {},
     "output_type": "execute_result"
    }
   ],
   "source": [
    "'''\n",
    "在顺序API或函数API构建模型时\n",
    "模型的保存\n",
    "model.save(\"my_model.h5\")\n",
    "使用hdf5格式保存模型的结构和参数\n",
    "与调用\n",
    "model=keras.models.load_model(\"my_model.h5\")\n",
    "'''"
   ]
  },
  {
   "cell_type": "code",
   "execution_count": 2,
   "metadata": {},
   "outputs": [
    {
     "data": {
      "text/plain": [
       "'\\n参数的回调\\ncallback\\n在fit()方法中接收callbacks参数追踪最佳权重\\n'"
      ]
     },
     "execution_count": 2,
     "metadata": {},
     "output_type": "execute_result"
    }
   ],
   "source": [
    "'''\n",
    "参数的回调\n",
    "callback\n",
    "在fit()方法中接收callbacks参数追踪最佳权重\n",
    "'''"
   ]
  },
  {
   "cell_type": "code",
   "execution_count": 1,
   "metadata": {},
   "outputs": [],
   "source": [
    "import tensorflow.keras as keras"
   ]
  },
  {
   "cell_type": "code",
   "execution_count": 2,
   "metadata": {},
   "outputs": [],
   "source": [
    "'''\n",
    "数据准备\n",
    "'''\n",
    "fashion_mnist=keras.datasets.fashion_mnist\n",
    "(x_train_full,y_train_full),(x_test,y_test)=fashion_mnist.load_data()#划分训练集和测试集\n",
    "x_valid,x_train=x_train_full[:5000]/255.0,x_train_full[5000:]/255.0\n",
    "y_valid,y_train=y_train_full[:5000],y_train_full[5000:]"
   ]
  },
  {
   "cell_type": "code",
   "execution_count": 3,
   "metadata": {},
   "outputs": [
    {
     "name": "stdout",
     "output_type": "stream",
     "text": [
      "Model: \"functional_1\"\n",
      "_________________________________________________________________\n",
      "Layer (type)                 Output Shape              Param #   \n",
      "=================================================================\n",
      "input_1 (InputLayer)         [(None, 28, 28)]          0         \n",
      "_________________________________________________________________\n",
      "flatten (Flatten)            (None, 784)               0         \n",
      "_________________________________________________________________\n",
      "dense (Dense)                (None, 64)                50240     \n",
      "_________________________________________________________________\n",
      "dense_1 (Dense)              (None, 32)                2080      \n",
      "_________________________________________________________________\n",
      "dense_2 (Dense)              (None, 10)                330       \n",
      "=================================================================\n",
      "Total params: 52,650\n",
      "Trainable params: 52,650\n",
      "Non-trainable params: 0\n",
      "_________________________________________________________________\n"
     ]
    }
   ],
   "source": [
    "'''\n",
    "构建网络\n",
    "'''\n",
    "model_input=keras.layers.Input(shape=(28,28))\n",
    "hidden1=keras.layers.Flatten()(model_input)\n",
    "hidden2=keras.layers.Dense(64,activation='relu')(hidden1)\n",
    "hidden3=keras.layers.Dense(32,activation='relu')(hidden2)\n",
    "model_output=keras.layers.Dense(10,activation='softmax')(hidden3)\n",
    "\n",
    "model=keras.Model(inputs=[model_input],outputs=[model_output])\n",
    "\n",
    "model.summary()"
   ]
  },
  {
   "cell_type": "code",
   "execution_count": 4,
   "metadata": {},
   "outputs": [],
   "source": [
    "'''\n",
    "模型的 编译\n",
    "'''\n",
    "model.compile(loss='sparse_categorical_crossentropy',#损失函数\n",
    "             optimizer='adam',#优化器\n",
    "             metrics=['accuracy']#评估指标\n",
    "             )"
   ]
  },
  {
   "cell_type": "code",
   "execution_count": 5,
   "metadata": {},
   "outputs": [],
   "source": [
    "'''\n",
    "定义回调函数\n",
    "'''\n",
    "class myCallback(keras.callbacks.Callback):  #定义类，继承自keras中的callback\n",
    "    def on_epoch_end(self, epoch, logs={}):     #重写on_epoch_end方法  log中保存有大量的训练信息\n",
    "        if(logs.get('loss')<0.4):\n",
    "            print(\"\\nReached 60% accuracy so cancelling training!\")\n",
    "            self.model.stop_training = True      #停止训练\n",
    "            \n",
    "mycallback1=myCallback()  #实例化"
   ]
  },
  {
   "cell_type": "code",
   "execution_count": 6,
   "metadata": {},
   "outputs": [
    {
     "name": "stdout",
     "output_type": "stream",
     "text": [
      "Epoch 1/30\n",
      "1719/1719 [==============================] - 3s 2ms/step - loss: 0.5414 - accuracy: 0.8083 - val_loss: 0.3965 - val_accuracy: 0.8628\n",
      "Epoch 2/30\n",
      "1683/1719 [============================>.] - ETA: 0s - loss: 0.3982 - accuracy: 0.8579\n",
      "Reached 60% accuracy so cancelling training!\n",
      "1719/1719 [==============================] - 3s 1ms/step - loss: 0.3975 - accuracy: 0.8582 - val_loss: 0.3854 - val_accuracy: 0.8614\n"
     ]
    }
   ],
   "source": [
    "'''\n",
    "带回调的训练与评估\n",
    "'''\n",
    "history=model.fit(x_train,y_train,epochs=30,validation_data=(x_valid,y_valid),callbacks=[mycallback1])"
   ]
  },
  {
   "cell_type": "code",
   "execution_count": 7,
   "metadata": {},
   "outputs": [
    {
     "name": "stdout",
     "output_type": "stream",
     "text": [
      "Epoch 1/30\n",
      "1711/1719 [============================>.] - ETA: 0s - loss: 0.3590 - accuracy: 0.8703WARNING:tensorflow:Callbacks method `on_test_batch_end` is slow compared to the batch time (batch time: 0.0006s vs `on_test_batch_end` time: 0.0010s). Check your callbacks.\n",
      "1719/1719 [==============================] - 3s 2ms/step - loss: 0.3590 - accuracy: 0.8703 - val_loss: 0.3528 - val_accuracy: 0.8730\n",
      "Epoch 2/30\n",
      "1719/1719 [==============================] - 3s 2ms/step - loss: 0.3353 - accuracy: 0.8779 - val_loss: 0.3329 - val_accuracy: 0.8806\n",
      "Epoch 3/30\n",
      "1719/1719 [==============================] - 3s 1ms/step - loss: 0.3191 - accuracy: 0.8823 - val_loss: 0.3262 - val_accuracy: 0.8842\n",
      "Epoch 4/30\n",
      "1719/1719 [==============================] - 3s 2ms/step - loss: 0.3051 - accuracy: 0.8870 - val_loss: 0.3455 - val_accuracy: 0.8778\n",
      "Epoch 5/30\n",
      "1719/1719 [==============================] - 3s 2ms/step - loss: 0.2943 - accuracy: 0.8913 - val_loss: 0.3139 - val_accuracy: 0.8864\n",
      "Epoch 6/30\n",
      "1719/1719 [==============================] - 3s 2ms/step - loss: 0.2837 - accuracy: 0.8944 - val_loss: 0.3138 - val_accuracy: 0.8886\n",
      "Epoch 7/30\n",
      "1719/1719 [==============================] - 3s 2ms/step - loss: 0.2736 - accuracy: 0.8984 - val_loss: 0.3056 - val_accuracy: 0.8886\n",
      "Epoch 8/30\n",
      "1719/1719 [==============================] - 3s 2ms/step - loss: 0.2645 - accuracy: 0.9007 - val_loss: 0.3149 - val_accuracy: 0.8818\n",
      "Epoch 9/30\n",
      "1719/1719 [==============================] - 3s 2ms/step - loss: 0.2581 - accuracy: 0.9022 - val_loss: 0.3268 - val_accuracy: 0.8820\n",
      "Epoch 10/30\n",
      "1719/1719 [==============================] - 3s 2ms/step - loss: 0.2517 - accuracy: 0.9052 - val_loss: 0.3089 - val_accuracy: 0.8892\n",
      "Epoch 11/30\n",
      "1719/1719 [==============================] - 3s 2ms/step - loss: 0.2451 - accuracy: 0.9074 - val_loss: 0.3205 - val_accuracy: 0.8850\n",
      "Epoch 12/30\n",
      "1719/1719 [==============================] - 3s 2ms/step - loss: 0.2382 - accuracy: 0.9110 - val_loss: 0.3077 - val_accuracy: 0.8880\n"
     ]
    }
   ],
   "source": [
    "'''\n",
    "调用回调函数2\n",
    "'''\n",
    "early_stopping_cb=keras.callbacks.EarlyStopping(patience=5,restore_best_weights=True)#多个轮次在验证集上无进展、停止训练、回滚到最佳模型\n",
    "history=model.fit(x_train,y_train,epochs=30,validation_data=(x_valid,y_valid),callbacks=[early_stopping_cb])"
   ]
  },
  {
   "cell_type": "code",
   "execution_count": null,
   "metadata": {},
   "outputs": [],
   "source": []
  }
 ],
 "metadata": {
  "kernelspec": {
   "display_name": "Python 3",
   "language": "python",
   "name": "python3"
  },
  "language_info": {
   "codemirror_mode": {
    "name": "ipython",
    "version": 3
   },
   "file_extension": ".py",
   "mimetype": "text/x-python",
   "name": "python",
   "nbconvert_exporter": "python",
   "pygments_lexer": "ipython3",
   "version": "3.7.4"
  }
 },
 "nbformat": 4,
 "nbformat_minor": 2
}
