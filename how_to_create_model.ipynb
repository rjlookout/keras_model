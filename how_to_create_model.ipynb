{
 "cells": [
  {
   "cell_type": "code",
   "execution_count": 1,
   "metadata": {},
   "outputs": [],
   "source": [
    "import tensorflow.keras as keras"
   ]
  },
  {
   "cell_type": "code",
   "execution_count": 2,
   "metadata": {},
   "outputs": [
    {
     "name": "stdout",
     "output_type": "stream",
     "text": [
      "Model: \"sequential\"\n",
      "_________________________________________________________________\n",
      "Layer (type)                 Output Shape              Param #   \n",
      "=================================================================\n",
      "flatten (Flatten)            (None, 784)               0         \n",
      "_________________________________________________________________\n",
      "dense (Dense)                (None, 300)               235500    \n",
      "_________________________________________________________________\n",
      "dense_1 (Dense)              (None, 100)               30100     \n",
      "_________________________________________________________________\n",
      "dense_2 (Dense)              (None, 10)                1010      \n",
      "=================================================================\n",
      "Total params: 266,610\n",
      "Trainable params: 266,610\n",
      "Non-trainable params: 0\n",
      "_________________________________________________________________\n"
     ]
    }
   ],
   "source": [
    "'''\n",
    "通过顺序API创建简单模型\n",
    "'''\n",
    "model1=keras.Sequential()\n",
    "model1.add(keras.layers.Flatten(input_shape=[28,28]))  #将输入拉伸为一维数组\n",
    "model1.add(keras.layers.Dense(300,activation=\"relu\"))  #全连接层\n",
    "model1.add(keras.layers.Dense(100,activation=\"relu\"))\n",
    "model1.add(keras.layers.Dense(10,activation=\"softmax\")) #softmax多分类\n",
    "model1.summary()"
   ]
  },
  {
   "cell_type": "code",
   "execution_count": 3,
   "metadata": {},
   "outputs": [
    {
     "name": "stdout",
     "output_type": "stream",
     "text": [
      "Model: \"functional_1\"\n",
      "__________________________________________________________________________________________________\n",
      "Layer (type)                    Output Shape         Param #     Connected to                     \n",
      "==================================================================================================\n",
      "wide_input (InputLayer)         [(None, 5)]          0                                            \n",
      "__________________________________________________________________________________________________\n",
      "deep_input (InputLayer)         [(None, 6)]          0                                            \n",
      "__________________________________________________________________________________________________\n",
      "dense_3 (Dense)                 (None, 30)           180         wide_input[0][0]                 \n",
      "__________________________________________________________________________________________________\n",
      "concatenate (Concatenate)       (None, 36)           0           deep_input[0][0]                 \n",
      "                                                                 dense_3[0][0]                    \n",
      "__________________________________________________________________________________________________\n",
      "dense_4 (Dense)                 (None, 30)           930         dense_3[0][0]                    \n",
      "__________________________________________________________________________________________________\n",
      "main_output (Dense)             (None, 1)            37          concatenate[0][0]                \n",
      "__________________________________________________________________________________________________\n",
      "aux_output (Dense)              (None, 1)            31          dense_4[0][0]                    \n",
      "==================================================================================================\n",
      "Total params: 1,178\n",
      "Trainable params: 1,178\n",
      "Non-trainable params: 0\n",
      "__________________________________________________________________________________________________\n"
     ]
    }
   ],
   "source": [
    "'''\n",
    "利用函数式API创建复杂网络\n",
    "'''\n",
    "input_A=keras.layers.Input(shape=(5),name=\"wide_input\")#模型输入类型的规范\n",
    "input_B=keras.layers.Input(shape=(6),name=\"deep_input\")#多输入\n",
    "hidden1=keras.layers.Dense(30,activation=\"relu\")(input_A)#调用input_A作为输入\n",
    "hidden2=keras.layers.Dense(30,activation=\"relu\")(hidden1)\n",
    "concat=keras.layers.Concatenate()([input_B,hidden1])#合并层\n",
    "aux_output=keras.layers.Dense(1,name=\"aux_output\")(hidden2)#多输出的 辅助输出层  (避免过拟合)\n",
    "output=keras.layers.Dense(1,name=\"main_output\")(concat)#输出层\n",
    "\n",
    "model2=keras.Model(inputs=[input_A,input_B],outputs=[output,aux_output])#创建模型 指定输入和输出\n",
    "model2.summary()"
   ]
  },
  {
   "cell_type": "code",
   "execution_count": 4,
   "metadata": {},
   "outputs": [],
   "source": [
    "'''\n",
    "子类API创建动态网络\n",
    "'''\n",
    "class WideandDeepModel(keras.Model):\n",
    "    def __init__(self,units=30,activation=\"relu\",**kwargs):\n",
    "        super().__init__(**kwargs)\n",
    "        self.hidden1=keras.layers.Dense(units,activation=activation)\n",
    "        self.hidden2=keras.layers.Dense(units,activation=activation)\n",
    "        self.main_output=keras.layers.Dense(1)\n",
    "        self.aux_output=keras.layers.Dense(1)\n",
    "        \n",
    "    def call(self,inputs):\n",
    "        input_A,input_B=inputs\n",
    "        hidden1=self.hidden1(input_A)\n",
    "        hidden2=self.hidden2(hidden1)\n",
    "        concat=keras.layers.concatenate()([input_B,hidden2])\n",
    "        main_output=self.main_output(concat)\n",
    "        aux_output=self.aux_output(hidden2)\n",
    "        return main_output,aux_output\n",
    "    \n",
    "model3=WideandDeepModel()\n"
   ]
  },
  {
   "cell_type": "code",
   "execution_count": null,
   "metadata": {},
   "outputs": [],
   "source": []
  }
 ],
 "metadata": {
  "kernelspec": {
   "display_name": "Python 3",
   "language": "python",
   "name": "python3"
  },
  "language_info": {
   "codemirror_mode": {
    "name": "ipython",
    "version": 3
   },
   "file_extension": ".py",
   "mimetype": "text/x-python",
   "name": "python",
   "nbconvert_exporter": "python",
   "pygments_lexer": "ipython3",
   "version": "3.7.4"
  }
 },
 "nbformat": 4,
 "nbformat_minor": 2
}
